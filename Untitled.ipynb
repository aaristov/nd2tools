{
 "cells": [
  {
   "cell_type": "code",
   "execution_count": 2,
   "metadata": {
    "collapsed": true,
    "jupyter": {
     "outputs_hidden": true
    }
   },
   "outputs": [
    {
     "name": "stdout",
     "output_type": "stream",
     "text": [
      "Obtaining file:///C:/Users/aaristov/Documents/data-compression/nd2shrink\n"
     ]
    },
    {
     "name": "stderr",
     "output_type": "stream",
     "text": [
      "  Running command git clone -q https://github.com/aaristov/pims_nd2.git 'C:\\Users\\aaristov\\AppData\\Local\\Temp\\pip-install-bidlghog\\pims-nd2'\n"
     ]
    },
    {
     "name": "stdout",
     "output_type": "stream",
     "text": [
      "Collecting numpy\n",
      "  Using cached numpy-1.18.1-cp38-cp38-win32.whl (10.8 MB)\n",
      "Collecting scipy\n",
      "  Using cached scipy-1.4.1-cp38-cp38-win32.whl (27.9 MB)\n",
      "Collecting opencv-python\n",
      "  Using cached opencv_python-4.2.0.32-cp38-cp38-win32.whl (24.2 MB)\n",
      "Collecting scikit-image\n",
      "  Using cached scikit_image-0.16.2-cp38-cp38-win32.whl (25.0 MB)\n",
      "Collecting pims_nd2@ git+https://github.com/aaristov/pims_nd2.git\n",
      "  Cloning https://github.com/aaristov/pims_nd2.git to c:\\users\\aaristov\\appdata\\local\\temp\\pip-install-bidlghog\\pims-nd2\n",
      "Collecting pytest\n",
      "  Using cached pytest-5.3.5-py3-none-any.whl (235 kB)\n",
      "Collecting tifffile\n",
      "  Using cached tifffile-2020.2.16-py3-none-any.whl (130 kB)\n",
      "Collecting tqdm\n",
      "  Using cached tqdm-4.43.0-py2.py3-none-any.whl (59 kB)\n",
      "Collecting PyWavelets>=0.4.0\n",
      "  Using cached PyWavelets-1.1.1-cp38-cp38-win32.whl (4.1 MB)\n",
      "Collecting networkx>=2.0\n",
      "  Using cached networkx-2.4-py3-none-any.whl (1.6 MB)\n",
      "Collecting pillow>=4.3.0\n",
      "  Using cached Pillow-7.0.0-cp38-cp38-win32.whl (1.8 MB)\n",
      "Collecting matplotlib!=3.0.0,>=2.0.0\n",
      "  Using cached matplotlib-3.1.3-cp38-cp38-win32.whl (8.9 MB)\n",
      "Collecting imageio>=2.3.0\n",
      "  Using cached imageio-2.8.0-py3-none-any.whl (3.3 MB)\n",
      "Collecting pims>=0.3\n",
      "  Using cached PIMS-0.4.1-py3-none-any.whl (81 kB)\n",
      "Collecting py>=1.5.0\n",
      "  Using cached py-1.8.1-py2.py3-none-any.whl (83 kB)\n",
      "Collecting more-itertools>=4.0.0\n",
      "  Using cached more_itertools-8.2.0-py3-none-any.whl (43 kB)\n",
      "Collecting pluggy<1.0,>=0.12\n",
      "  Using cached pluggy-0.13.1-py2.py3-none-any.whl (18 kB)\n",
      "Requirement already satisfied: wcwidth in c:\\users\\aaristov\\documents\\data-compression\\venv\\lib\\site-packages (from pytest->nd2tif==0.1.2.dev0) (0.1.8)\n",
      "Requirement already satisfied: colorama; sys_platform == \"win32\" in c:\\users\\aaristov\\documents\\data-compression\\venv\\lib\\site-packages (from pytest->nd2tif==0.1.2.dev0) (0.4.3)\n",
      "Collecting packaging\n",
      "  Using cached packaging-20.1-py2.py3-none-any.whl (36 kB)\n",
      "Collecting atomicwrites>=1.0; sys_platform == \"win32\"\n",
      "  Using cached atomicwrites-1.3.0-py2.py3-none-any.whl (5.9 kB)\n",
      "Requirement already satisfied: attrs>=17.4.0 in c:\\users\\aaristov\\documents\\data-compression\\venv\\lib\\site-packages (from pytest->nd2tif==0.1.2.dev0) (19.3.0)\n",
      "Collecting imagecodecs>=2020.1.31\n",
      "  Using cached imagecodecs-2020.2.18-cp38-cp38-win32.whl (4.4 MB)\n",
      "Requirement already satisfied: decorator>=4.3.0 in c:\\users\\aaristov\\documents\\data-compression\\venv\\lib\\site-packages (from networkx>=2.0->scikit-image->nd2tif==0.1.2.dev0) (4.4.2)\n",
      "Requirement already satisfied: python-dateutil>=2.1 in c:\\users\\aaristov\\documents\\data-compression\\venv\\lib\\site-packages (from matplotlib!=3.0.0,>=2.0.0->scikit-image->nd2tif==0.1.2.dev0) (2.8.1)\n",
      "Collecting kiwisolver>=1.0.1\n",
      "  Using cached kiwisolver-1.1.0-cp38-none-win32.whl (43 kB)\n",
      "Collecting cycler>=0.10\n",
      "  Using cached cycler-0.10.0-py2.py3-none-any.whl (6.5 kB)\n",
      "Collecting pyparsing!=2.0.4,!=2.1.2,!=2.1.6,>=2.0.1\n",
      "  Using cached pyparsing-2.4.6-py2.py3-none-any.whl (67 kB)\n",
      "Collecting slicerator>=0.9.7\n",
      "  Using cached slicerator-1.0.0-py3-none-any.whl (9.3 kB)\n",
      "Requirement already satisfied: six>=1.8 in c:\\users\\aaristov\\documents\\data-compression\\venv\\lib\\site-packages (from pims>=0.3->pims_nd2@ git+https://github.com/aaristov/pims_nd2.git->nd2tif==0.1.2.dev0) (1.14.0)\n",
      "Requirement already satisfied: setuptools in c:\\users\\aaristov\\documents\\data-compression\\venv\\lib\\site-packages (from kiwisolver>=1.0.1->matplotlib!=3.0.0,>=2.0.0->scikit-image->nd2tif==0.1.2.dev0) (45.2.0)\n",
      "Building wheels for collected packages: pims-nd2\n",
      "  Building wheel for pims-nd2 (setup.py): started\n",
      "  Building wheel for pims-nd2 (setup.py): finished with status 'done'\n",
      "  Created wheel for pims-nd2: filename=pims_nd2-1.0.dev0-py3-none-any.whl size=19779434 sha256=8e8c0e989ecd1a7dec99e186379511c4cc425a577d27ec8a942ec1d35d18ce46\n",
      "  Stored in directory: C:\\Users\\aaristov\\AppData\\Local\\Temp\\pip-ephem-wheel-cache-hofb__r3\\wheels\\cb\\2d\\88\\e70abc69c965352cd58d1d51a8eb18d5cbad65160a0be91197\n",
      "Successfully built pims-nd2\n",
      "Installing collected packages: numpy, scipy, opencv-python, PyWavelets, networkx, pillow, kiwisolver, cycler, pyparsing, matplotlib, imageio, scikit-image, slicerator, pims, pims-nd2, py, more-itertools, pluggy, packaging, atomicwrites, pytest, imagecodecs, tifffile, tqdm, nd2tif\n",
      "  Running setup.py develop for nd2tif\n",
      "Successfully installed PyWavelets-1.1.1 atomicwrites-1.3.0 cycler-0.10.0 imagecodecs-2020.2.18 imageio-2.8.0 kiwisolver-1.1.0 matplotlib-3.1.3 more-itertools-8.2.0 nd2tif networkx-2.4 numpy-1.18.1 opencv-python-4.2.0.32 packaging-20.1 pillow-7.0.0 pims-0.4.1 pims-nd2-1.0.dev0 pluggy-0.13.1 py-1.8.1 pyparsing-2.4.6 pytest-5.3.5 scikit-image-0.16.2 scipy-1.4.1 slicerator-1.0.0 tifffile-2020.2.16 tqdm-4.43.0\n"
     ]
    }
   ],
   "source": [
    "!pip install -e ."
   ]
  },
  {
   "cell_type": "code",
   "execution_count": 6,
   "metadata": {},
   "outputs": [
    {
     "name": "stdout",
     "output_type": "stream",
     "text": [
      "The autoreload extension is already loaded. To reload it, use:\n",
      "  %reload_ext autoreload\n"
     ]
    }
   ],
   "source": [
    "from nd2_combine import tools, segment\n",
    "import logging\n",
    "import os\n",
    "logging.basicConfig(level=logging.DEBUG)\n",
    "\n",
    "%load_ext autoreload\n",
    "%autoreload 2"
   ]
  },
  {
   "cell_type": "code",
   "execution_count": 2,
   "metadata": {},
   "outputs": [],
   "source": [
    "path = r\"Z:\\Sebastien\\mESC_aggregates\\SUMO\\23_01_2020\\D_5\\Chip_1.nd2\""
   ]
  },
  {
   "cell_type": "code",
   "execution_count": 7,
   "metadata": {},
   "outputs": [],
   "source": [
    "dirr = path.replace('.nd2','')\n",
    "os.mkdir(dirr)"
   ]
  },
  {
   "cell_type": "code",
   "execution_count": 3,
   "metadata": {},
   "outputs": [],
   "source": [
    "reader = tools.read_nd2(path)"
   ]
  },
  {
   "cell_type": "code",
   "execution_count": 8,
   "metadata": {},
   "outputs": [
    {
     "ename": "SyntaxError",
     "evalue": "invalid syntax (<ipython-input-8-718d93f14b9e>, line 2)",
     "output_type": "error",
     "traceback": [
      "\u001b[1;36m  File \u001b[1;32m\"<ipython-input-8-718d93f14b9e>\"\u001b[1;36m, line \u001b[1;32m2\u001b[0m\n\u001b[1;33m    seg = segment.findSpheroid(img['well'], threshold=0.3, sigma=5, max_major_axis_length=300, , plot=1)\u001b[0m\n\u001b[1;37m                                                                                               ^\u001b[0m\n\u001b[1;31mSyntaxError\u001b[0m\u001b[1;31m:\u001b[0m invalid syntax\n"
     ]
    }
   ],
   "source": [
    "def process(img, dirr=dirr):\n",
    "    seg = segment.findSpheroid(img['well'], threshold=0.3, sigma=5, max_major_axis_length=300, , plot=1)\n",
    "    stack = np.array([img['well'], seg], dtype='uint16')\n",
    "    well = tools.Well(stack, order='cyx', calibration_um=img['calibration_um'])\n",
    "    well.save_tif(os.path.join(dirr, ))\n",
    "    res = segment.get_props(seg)\n",
    "    print(res)\n",
    "    return res"
   ]
  },
  {
   "cell_type": "code",
   "execution_count": 1,
   "metadata": {},
   "outputs": [
    {
     "ename": "NameError",
     "evalue": "name 'process' is not defined",
     "output_type": "error",
     "traceback": [
      "\u001b[1;31m---------------------------------------------------------------------------\u001b[0m",
      "\u001b[1;31mNameError\u001b[0m                                 Traceback (most recent call last)",
      "\u001b[1;32m<ipython-input-1-394bc57f7814>\u001b[0m in \u001b[0;36m<module>\u001b[1;34m\u001b[0m\n\u001b[1;32m----> 1\u001b[1;33m \u001b[0mres\u001b[0m \u001b[1;33m=\u001b[0m \u001b[0mlist\u001b[0m\u001b[1;33m(\u001b[0m\u001b[0mmap\u001b[0m\u001b[1;33m(\u001b[0m\u001b[0mprocess\u001b[0m\u001b[1;33m,\u001b[0m \u001b[0mreader\u001b[0m\u001b[1;33m)\u001b[0m\u001b[1;33m)\u001b[0m\u001b[1;33m\u001b[0m\u001b[1;33m\u001b[0m\u001b[0m\n\u001b[0m",
      "\u001b[1;31mNameError\u001b[0m: name 'process' is not defined"
     ]
    }
   ],
   "source": [
    "res = list(map(process, reader))"
   ]
  },
  {
   "cell_type": "code",
   "execution_count": 4,
   "metadata": {},
   "outputs": [
    {
     "name": "stderr",
     "output_type": "stream",
     "text": [
      "c:\\users\\aaristov\\documents\\data-compression\\venv\\lib\\site-packages\\pims\\base_frames.py:522: UserWarning: Please call FramesSequenceND.__init__() at the start of thethe reader initialization.\n",
      "  warn(\"Please call FramesSequenceND.__init__() at the start of the\"\n"
     ]
    }
   ],
   "source": [
    "images = [i['well'] for i in reader]"
   ]
  },
  {
   "cell_type": "code",
   "execution_count": 2,
   "metadata": {},
   "outputs": [
    {
     "ename": "NameError",
     "evalue": "name 'images' is not defined",
     "output_type": "error",
     "traceback": [
      "\u001b[1;31m---------------------------------------------------------------------------\u001b[0m",
      "\u001b[1;31mNameError\u001b[0m                                 Traceback (most recent call last)",
      "\u001b[1;32m<ipython-input-2-c653239fc92c>\u001b[0m in \u001b[0;36m<module>\u001b[1;34m\u001b[0m\n\u001b[1;32m----> 1\u001b[1;33m \u001b[0mimages\u001b[0m\u001b[1;33m[\u001b[0m\u001b[1;36m3\u001b[0m\u001b[1;33m]\u001b[0m\u001b[1;33m\u001b[0m\u001b[1;33m\u001b[0m\u001b[0m\n\u001b[0m",
      "\u001b[1;31mNameError\u001b[0m: name 'images' is not defined"
     ]
    }
   ],
   "source": [
    "images[3]"
   ]
  },
  {
   "cell_type": "code",
   "execution_count": 20,
   "metadata": {},
   "outputs": [
    {
     "ename": "MemoryError",
     "evalue": "Unable to allocate 31.9 MiB for an array with shape (2044, 2046) and data type float64",
     "output_type": "error",
     "traceback": [
      "\u001b[1;31m---------------------------------------------------------------------------\u001b[0m",
      "\u001b[1;31mMemoryError\u001b[0m                               Traceback (most recent call last)",
      "\u001b[1;32m<ipython-input-20-7f6db9a5c5ec>\u001b[0m in \u001b[0;36m<module>\u001b[1;34m\u001b[0m\n\u001b[1;32m----> 1\u001b[1;33m \u001b[0mseg\u001b[0m \u001b[1;33m=\u001b[0m \u001b[0msegment\u001b[0m\u001b[1;33m.\u001b[0m\u001b[0mfindSpheroid\u001b[0m\u001b[1;33m(\u001b[0m\u001b[0mimages\u001b[0m\u001b[1;33m[\u001b[0m\u001b[1;36m2\u001b[0m\u001b[1;33m]\u001b[0m\u001b[1;33m,\u001b[0m \u001b[0mthreshold\u001b[0m\u001b[1;33m=\u001b[0m\u001b[1;36m0.3\u001b[0m\u001b[1;33m,\u001b[0m \u001b[0msigma\u001b[0m\u001b[1;33m=\u001b[0m\u001b[1;36m5\u001b[0m\u001b[1;33m,\u001b[0m \u001b[0mminRegionArea\u001b[0m\u001b[1;33m=\u001b[0m\u001b[1;36m15000\u001b[0m\u001b[1;33m,\u001b[0m \u001b[0mplot\u001b[0m\u001b[1;33m=\u001b[0m\u001b[1;36m1\u001b[0m\u001b[1;33m)\u001b[0m\u001b[1;33m\u001b[0m\u001b[1;33m\u001b[0m\u001b[0m\n\u001b[0m\u001b[0;32m      2\u001b[0m \u001b[0msegment\u001b[0m\u001b[1;33m.\u001b[0m\u001b[0mget_props\u001b[0m\u001b[1;33m(\u001b[0m\u001b[0mseg\u001b[0m\u001b[1;33m)\u001b[0m\u001b[1;33m\u001b[0m\u001b[1;33m\u001b[0m\u001b[0m\n",
      "\u001b[1;32m~\\Documents\\data-compression\\nd2shrink\\nd2_combine\\segment.py\u001b[0m in \u001b[0;36mfindSpheroid\u001b[1;34m(imCropped, sigma, threshold, max_ecc, minRegionArea, maxRegionArea, plot)\u001b[0m\n\u001b[0;32m     25\u001b[0m \u001b[1;33m\u001b[0m\u001b[0m\n\u001b[0;32m     26\u001b[0m \u001b[1;33m\u001b[0m\u001b[0m\n\u001b[1;32m---> 27\u001b[1;33m     \u001b[0mresult1\u001b[0m\u001b[1;33m,\u001b[0m \u001b[0mresult2\u001b[0m \u001b[1;33m=\u001b[0m \u001b[0mnp\u001b[0m\u001b[1;33m.\u001b[0m\u001b[0mgradient\u001b[0m\u001b[1;33m(\u001b[0m\u001b[0mimCropped\u001b[0m\u001b[1;33m)\u001b[0m\u001b[1;33m\u001b[0m\u001b[1;33m\u001b[0m\u001b[0m\n\u001b[0m\u001b[0;32m     28\u001b[0m \u001b[1;31m#     result2 = ndimage.sobel(imCropped, 0)\u001b[0m\u001b[1;33m\u001b[0m\u001b[1;33m\u001b[0m\u001b[1;33m\u001b[0m\u001b[0m\n\u001b[0;32m     29\u001b[0m \u001b[1;33m\u001b[0m\u001b[0m\n",
      "\u001b[1;32m<__array_function__ internals>\u001b[0m in \u001b[0;36mgradient\u001b[1;34m(*args, **kwargs)\u001b[0m\n",
      "\u001b[1;32mc:\\users\\aaristov\\documents\\data-compression\\venv\\lib\\site-packages\\numpy\\lib\\function_base.py\u001b[0m in \u001b[0;36mgradient\u001b[1;34m(f, *varargs, **kwargs)\u001b[0m\n\u001b[0;32m   1055\u001b[0m \u001b[1;33m\u001b[0m\u001b[0m\n\u001b[0;32m   1056\u001b[0m         \u001b[1;32mif\u001b[0m \u001b[0muniform_spacing\u001b[0m\u001b[1;33m:\u001b[0m\u001b[1;33m\u001b[0m\u001b[1;33m\u001b[0m\u001b[0m\n\u001b[1;32m-> 1057\u001b[1;33m             \u001b[0mout\u001b[0m\u001b[1;33m[\u001b[0m\u001b[0mtuple\u001b[0m\u001b[1;33m(\u001b[0m\u001b[0mslice1\u001b[0m\u001b[1;33m)\u001b[0m\u001b[1;33m]\u001b[0m \u001b[1;33m=\u001b[0m \u001b[1;33m(\u001b[0m\u001b[0mf\u001b[0m\u001b[1;33m[\u001b[0m\u001b[0mtuple\u001b[0m\u001b[1;33m(\u001b[0m\u001b[0mslice4\u001b[0m\u001b[1;33m)\u001b[0m\u001b[1;33m]\u001b[0m \u001b[1;33m-\u001b[0m \u001b[0mf\u001b[0m\u001b[1;33m[\u001b[0m\u001b[0mtuple\u001b[0m\u001b[1;33m(\u001b[0m\u001b[0mslice2\u001b[0m\u001b[1;33m)\u001b[0m\u001b[1;33m]\u001b[0m\u001b[1;33m)\u001b[0m \u001b[1;33m/\u001b[0m \u001b[1;33m(\u001b[0m\u001b[1;36m2.\u001b[0m \u001b[1;33m*\u001b[0m \u001b[0max_dx\u001b[0m\u001b[1;33m)\u001b[0m\u001b[1;33m\u001b[0m\u001b[1;33m\u001b[0m\u001b[0m\n\u001b[0m\u001b[0;32m   1058\u001b[0m         \u001b[1;32melse\u001b[0m\u001b[1;33m:\u001b[0m\u001b[1;33m\u001b[0m\u001b[1;33m\u001b[0m\u001b[0m\n\u001b[0;32m   1059\u001b[0m             \u001b[0mdx1\u001b[0m \u001b[1;33m=\u001b[0m \u001b[0max_dx\u001b[0m\u001b[1;33m[\u001b[0m\u001b[1;36m0\u001b[0m\u001b[1;33m:\u001b[0m\u001b[1;33m-\u001b[0m\u001b[1;36m1\u001b[0m\u001b[1;33m]\u001b[0m\u001b[1;33m\u001b[0m\u001b[1;33m\u001b[0m\u001b[0m\n",
      "\u001b[1;31mMemoryError\u001b[0m: Unable to allocate 31.9 MiB for an array with shape (2044, 2046) and data type float64"
     ]
    }
   ],
   "source": [
    "seg = segment.findSpheroid(images[2], threshold=0.3, sigma=5, minRegionArea=15000, plot=1)\n",
    "segment.get_props(seg)"
   ]
  },
  {
   "cell_type": "code",
   "execution_count": null,
   "metadata": {},
   "outputs": [],
   "source": []
  },
  {
   "cell_type": "code",
   "execution_count": null,
   "metadata": {},
   "outputs": [],
   "source": []
  }
 ],
 "metadata": {
  "kernelspec": {
   "display_name": "Python 3",
   "language": "python",
   "name": "python3"
  },
  "language_info": {
   "codemirror_mode": {
    "name": "ipython",
    "version": 3
   },
   "file_extension": ".py",
   "mimetype": "text/x-python",
   "name": "python",
   "nbconvert_exporter": "python",
   "pygments_lexer": "ipython3",
   "version": "3.8.1"
  }
 },
 "nbformat": 4,
 "nbformat_minor": 4
}
